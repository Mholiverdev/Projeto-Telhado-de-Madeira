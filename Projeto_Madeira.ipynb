{
 "cells": [
  {
   "cell_type": "code",
   "execution_count": 1,
   "metadata": {
    "id": "O6MG-lcowG5N"
   },
   "outputs": [
    {
     "name": "stdout",
     "output_type": "stream",
     "text": [
      "Comprimento: 50.0 m\n",
      "Largura: 10.0 m\n",
      "Inclinação: 50.0 %\n",
      "Tipo de Madeira: pinus\n",
      "Área do Telhado: 333.33 m²\n",
      "Carga Suportada: 16666.67 kg\n"
     ]
    }
   ],
   "source": [
    "class Telhado:\n",
    "    def __init__(self, comprimento, largura, inclinacao, tipo_madeira):\n",
    "        self.comprimento = comprimento\n",
    "        self.largura = largura\n",
    "        self.inclinacao = inclinacao\n",
    "        self.tipo_madeira = tipo_madeira\n",
    "        self.area = self.calcular_area()\n",
    "        self.carga = self.calcular_carga()\n",
    "\n",
    "    def calcular_area(self):\n",
    "        # Calcula a área do telhado considerando a inclinação\n",
    "        area_base = self.comprimento * self.largura\n",
    "        area_inclinada = area_base / (self.inclinacao / 100 + 1)\n",
    "        return area_inclinada\n",
    "\n",
    "    def calcular_carga(self):\n",
    "        # Calcula a carga que o telhado deve suportar\n",
    "        # Este é um exemplo simplificado, na prática você precisaria de mais dados\n",
    "        peso_madeira = {\n",
    "            'pinus': 500,  # kg/m³\n",
    "            'eucalipto': 600,  # kg/m³\n",
    "            'ipê': 800  # kg/m³\n",
    "        }\n",
    "        densidade = peso_madeira.get(self.tipo_madeira.lower(), 500)\n",
    "        volume = self.area * 0.1  # Supondo uma espessura média de 10 cm\n",
    "        return volume * densidade\n",
    "\n",
    "    def exibir_detalhes(self):\n",
    "        print(f\"Comprimento: {self.comprimento} m\")\n",
    "        print(f\"Largura: {self.largura} m\")\n",
    "        print(f\"Inclinação: {self.inclinacao} %\")\n",
    "        print(f\"Tipo de Madeira: {self.tipo_madeira}\")\n",
    "        print(f\"Área do Telhado: {self.area:.2f} m²\")\n",
    "        print(f\"Carga Suportada: {self.carga:.2f} kg\")\n",
    "\n",
    "# Exemplo de uso\n",
    "comprimento = float(input(\"Digite o comprimento do telhado (em metros): \"))\n",
    "largura = float(input(\"Digite a largura do telhado (em metros): \"))\n",
    "inclinacao = float(input(\"Digite a inclinação do telhado (em porcentagem): \"))\n",
    "tipo_madeira = input(\"Digite o tipo de madeira (pinus, eucalipto, ipê): \")\n",
    "\n",
    "telhado = Telhado(comprimento, largura, inclinacao, tipo_madeira)\n",
    "telhado.exibir_detalhes()"
   ]
  }
 ],
 "metadata": {
  "colab": {
   "provenance": []
  },
  "kernelspec": {
   "display_name": "Python 3",
   "name": "python3"
  },
  "language_info": {
   "codemirror_mode": {
    "name": "ipython",
    "version": 3
   },
   "file_extension": ".py",
   "mimetype": "text/x-python",
   "name": "python",
   "nbconvert_exporter": "python",
   "pygments_lexer": "ipython3",
   "version": "3.12.1"
  }
 },
 "nbformat": 4,
 "nbformat_minor": 0
}
